{
 "cells": [
  {
   "cell_type": "code",
   "execution_count": 203,
   "metadata": {},
   "outputs": [
    {
     "data": {
      "text/plain": [
       "[('', 100),\n",
       " ('Engineering', 88),\n",
       " ('Physics and Astronomy', 87),\n",
       " ('Mathematics', 86),\n",
       " ('Multidisciplinary', 78),\n",
       " ('Biochemistry, Genetics and Molecular Biology', 60),\n",
       " ('Medicine', 58),\n",
       " ('Computer Science', 44),\n",
       " ('Agricultural and Biological Sciences', 41),\n",
       " ('Chemistry', 40),\n",
       " ('Social Sciences', 39),\n",
       " ('Chemical Engineering', 38),\n",
       " ('Materials Science', 37),\n",
       " ('Pharmacology, Toxicology and Pharmaceutics', 34),\n",
       " ('Neuroscience', 33),\n",
       " ('Immunology and Microbiology', 33),\n",
       " ('Arts and Humanities', 30),\n",
       " ('Environmental Science', 30),\n",
       " ('Energy', 28),\n",
       " ('Earth and Planetary Sciences', 27),\n",
       " ('Psychology', 24),\n",
       " ('Health Professions', 24),\n",
       " ('Nursing', 22),\n",
       " ('Decision Sciences', 21),\n",
       " ('Veterinary', 14),\n",
       " ('Economics, Econometrics and Finance', 12),\n",
       " ('Business, Management and Accounting', 10),\n",
       " ('Dentistry', 6)]"
      ]
     },
     "execution_count": 203,
     "metadata": {},
     "output_type": "execute_result"
    }
   ],
   "source": [
    "import pandas as pd\n",
    "import numpy as np\n",
    "import networkx as nx\n",
    "import matplotlib.pyplot as plt\n",
    "from collections import OrderedDict\n",
    "from datetime import date\n",
    "\n",
    "Authors = pd.read_csv('authors.csv')\n",
    "\n",
    "subjects_list = Authors['Subject Area']\n",
    "\n",
    "subjects_list = subjects_list.str.split('\\n')\n",
    "\n",
    "\n",
    "\n",
    "\n",
    "from collections import Counter\n",
    "cnt = Counter()\n",
    "for mini_list in subjects_list.iloc[0:100]:\n",
    "    for word in mini_list:\n",
    "        cnt[word] += 1\n",
    "cnt.most_common()\n",
    "\n",
    "\n",
    "# use tfidf to convert setences to vector matrix (term frequency)\n",
    "# use the method of cosine similarity / jaccard similarity \n",
    "# step 1: find the term frequency and normalize the result (to L2 norms)\n",
    "# Summing up squares of each frequency and taking a square root\n",
    "\n",
    "    \n",
    "    \n",
    "    \n",
    "\n"
   ]
  },
  {
   "cell_type": "code",
   "execution_count": null,
   "metadata": {},
   "outputs": [],
   "source": []
  },
  {
   "cell_type": "code",
   "execution_count": null,
   "metadata": {},
   "outputs": [],
   "source": []
  },
  {
   "cell_type": "code",
   "execution_count": null,
   "metadata": {},
   "outputs": [],
   "source": []
  }
 ],
 "metadata": {
  "kernelspec": {
   "display_name": "Python 3",
   "language": "python",
   "name": "python3"
  },
  "language_info": {
   "codemirror_mode": {
    "name": "ipython",
    "version": 3
   },
   "file_extension": ".py",
   "mimetype": "text/x-python",
   "name": "python",
   "nbconvert_exporter": "python",
   "pygments_lexer": "ipython3",
   "version": "3.7.0"
  }
 },
 "nbformat": 4,
 "nbformat_minor": 2
}
